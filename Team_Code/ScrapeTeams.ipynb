{
 "cells": [
  {
   "cell_type": "code",
   "execution_count": 1,
   "metadata": {},
   "outputs": [
    {
     "name": "stdout",
     "output_type": "stream",
     "text": [
      "Getting stats from 2019\n",
      "[[['Toronto Raptors', '.810'], ['Philadelphia 76ers', '.636'], ['Boston Celtics', '.524'], ['Brooklyn Nets', '.381'], ['New York Knicks', '.333'], ['Milwaukee Bucks', '.700'], ['Indiana Pacers', '.600'], ['Detroit Pistons', '.588'], ['Chicago Bulls', '.238'], ['Cleveland Cavaliers', '.211'], ['Charlotte Hornets', '.500'], ['Orlando Magic', '.476'], ['Washington Wizards', '.400'], ['Miami Heat', '.368'], ['Atlanta Hawks', '.200'], ['Denver Nuggets', '.650'], ['Oklahoma City Thunder', '.632'], ['Portland Trail Blazers', '.600'], ['Minnesota Timberwolves', '.476'], ['Utah Jazz', '.429'], ['Los Angeles Clippers', '.684'], ['Golden State Warriors', '.682'], ['Los Angeles Lakers', '.579'], ['Sacramento Kings', '.500'], ['Phoenix Suns', '.211'], ['Memphis Grizzlies', '.632'], ['San Antonio Spurs', '.500'], ['Dallas Mavericks', '.500'], ['New Orleans Pelicans', '.476'], ['Houston Rockets', '.474']]]\n",
      "Done\n"
     ]
    }
   ],
   "source": [
    "from bs4 import BeautifulSoup\n",
    "import requests\n",
    "import numpy as np\n",
    "import csv\n",
    "\n",
    "\n",
    "# Creating a dictionary of URLs for each year from 1988 to 2018 (30 years).\n",
    "baseURL_left = \"https://www.basketball-reference.com/leagues/NBA_\"\n",
    "baseURL_right = \".html\"\n",
    "URL = {}\n",
    "for year in range(2019, 2020):\n",
    "    URL[year] = baseURL_left + str(year) + baseURL_right\n",
    "\n",
    "# This part scrapes data from the NBA database and creates a list\n",
    "# of lists of each team's win rate\n",
    "total_table = []\n",
    "for year in URL:\n",
    "    print(\"Getting stats from \" + str(year))\n",
    "    source = requests.get(URL[year]).text\n",
    "    soup = BeautifulSoup(source, 'lxml')\n",
    "    section = soup.findAll('div', {'class': 'standings_divs'})\n",
    "    table_year = []\n",
    "    for sec in section:\n",
    "        player_table = sec.findAll('table', {'class': 'stats_table'})\n",
    "        for Btable in player_table:\n",
    "            full_table = Btable.find('tbody').findAll('tr', {'class': 'full_table'})\n",
    "            for table in full_table:\n",
    "                team = table.find('th', {'data-stat': \"team_name\"})\n",
    "                team_name = team.find('a').get_text()\n",
    "                stats = table.findAll('td', {'class': 'right'})\n",
    "                wl_pct = table.find('td', {'data-stat': \"win_loss_pct\"}).get_text()\n",
    "                temp = [team_name, wl_pct]\n",
    "                table_year.append(temp)\n",
    "    total_table.append(table_year)\n",
    "    filename = \"TeamStats\" + str(year) + \".csv\"\n",
    "    with open(filename, \"w\") as csv:\n",
    "        for team in table_year:\n",
    "            csv.write(str(team[0]) + \",\" + str(team[1]))\n",
    "            csv.write(\"\\n\")\n",
    "print(total_table)\n",
    "print(\"Done\")\n"
   ]
  },
  {
   "cell_type": "code",
   "execution_count": null,
   "metadata": {},
   "outputs": [],
   "source": []
  }
 ],
 "metadata": {
  "kernelspec": {
   "display_name": "Python 3",
   "language": "python",
   "name": "python3"
  },
  "language_info": {
   "codemirror_mode": {
    "name": "ipython",
    "version": 3
   },
   "file_extension": ".py",
   "mimetype": "text/x-python",
   "name": "python",
   "nbconvert_exporter": "python",
   "pygments_lexer": "ipython3",
   "version": "3.6.6"
  }
 },
 "nbformat": 4,
 "nbformat_minor": 2
}
