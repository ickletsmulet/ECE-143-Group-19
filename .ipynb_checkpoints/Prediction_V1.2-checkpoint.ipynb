{
 "cells": [
  {
   "cell_type": "code",
   "execution_count": 1,
   "metadata": {},
   "outputs": [],
   "source": [
    "import torch\n",
    "import torch.nn as nn\n",
    "import torch.optim as optim\n",
    "from torch.autograd import Variable\n",
    "from torch.utils.data import DataLoader\n",
    "from torch.utils.data import sampler\n",
    "\n",
    "import torchvision.datasets as dset\n",
    "import torchvision.transforms as T\n",
    "import torch.nn.functional as F\n",
    "import numpy as np\n",
    "\n",
    "import timeit\n",
    "from Preprocessing.data_norm import *\n",
    "from Preprocessing.make_idx import *\n",
    "from Preprocessing.make_team import *\n",
    "from Preprocessing.train import *\n",
    "import re\n",
    "import copy as cp\n",
    "\n",
    "import pandas as pd"
   ]
  },
  {
   "cell_type": "code",
   "execution_count": 2,
   "metadata": {},
   "outputs": [
    {
     "name": "stdout",
     "output_type": "stream",
     "text": [
      "using device: cpu\n"
     ]
    }
   ],
   "source": [
    "USE_GPU = True\n",
    "\n",
    "dtype = torch.float32 # we will be using float throughout this tutorial\n",
    "# the default is gpu but if gpu is not available,then use cpu\n",
    "if USE_GPU and torch.cuda.is_available():\n",
    "    device = torch.device('cuda')\n",
    "else:\n",
    "    device = torch.device('cpu')\n",
    "\n",
    "# Constant to control how frequently we print train loss\n",
    "device = torch.device('cpu')\n",
    "print_every = 100\n",
    "# show which device to use\n",
    "print('using device:', device)"
   ]
  },
  {
   "cell_type": "code",
   "execution_count": 3,
   "metadata": {},
   "outputs": [],
   "source": [
    "teamName = [\"Atlanta Hawks\",\"Boston Celtics\",\"Brooklyn Nets\",\"Charlotte Bobcats\",\"Charlotte Hornets\",\n",
    "\"Chicago Bulls\",\"Cleveland Cavaliers\",\"Dallas Mavericks\",\"Denver Nuggets\",\"Detroit Pistons\",\n",
    "\"Golden State Warriors\",\"Houston Rockets\",\"Indiana Pacers\",\"Los Angeles Clippers\",\"Los Angeles Lakers\",\n",
    "\"Memphis Grizzlies\",\"Miami Heat\",\"Milwaukee Bucks\",\"Minnesota Timberwolves\",\"New Jeresy Nets\",\n",
    "\"New Orleans Hornets\",\"New Orleans Pelicans\",\"New York Knicks\",\"Oklahoma City Thunder\",\"Orlando Magic\",\n",
    "\"Philadelphia 76ers\",\"Phoenix Suns\",\"Portland Trail Blazers\",\"Sacramento Kings\",\"San Antonio Spurs\",\n",
    "\"Seattle SuperSonics\",\"Toronto Raptors\",\"Utah Jazz\",\"Vancouver Grizzlies\",\"Washington Bullets\",\"Washington Wizards\"]\n",
    "\n",
    "Abbr = [\"ATL\",\"BOS\",\"BKN\",\"CHA\",\"CHA\",\"CHI\",\"CLE\",\"DAL\",\"DEN\",\"DET\",\"GSW\",\"HOU\",\"IND\",\"LAC\",\"LAL\",\"MEM\",\n",
    "\"MIA\",\"MIL\",\"MIN\",\"NJN\",\"NOH\",\"NOP\",\"NYK\",\"OKC\",\"ORL\",\"PHI\",\"PHO\",\"POR\",\"SAC\",\"SAS\",\"SEA\",\"TOR\",\n",
    "\"UTA\",\"VAN\",\"WSB\",\"WAS\"]\n"
   ]
  },
  {
   "cell_type": "code",
   "execution_count": 4,
   "metadata": {},
   "outputs": [],
   "source": [
    "#25 years training, 4 validation, 1 testing\n",
    "trainYear = 25\n",
    "startYear_train = 1989\n",
    "validationYear = 4\n",
    "startYear_validation = startYear_train + trainYear\n",
    "testYear = 1\n",
    "startYear_test = startYear_validation + validationYear"
   ]
  },
  {
   "cell_type": "code",
   "execution_count": 6,
   "metadata": {},
   "outputs": [],
   "source": [
    "'''\n",
    "when use different idx,we use different features to do training\n",
    "note:!when saving the model, we should tell which idx used\n",
    "'''\n",
    "\n",
    "#index_code1\n",
    "need_idx = [1,2,3,4,5,6,7,8,9,10,11,12,17,18,19,20]\n",
    "#need_idx = [2,3,4,5,6,7,8,9,10,11,12,17,18,19]\n",
    "#need_idx = [1]"
   ]
  },
  {
   "cell_type": "code",
   "execution_count": 7,
   "metadata": {},
   "outputs": [],
   "source": [
    "# '''\n",
    "# #initialization\n",
    "# player_list_train = [0] * trainYear\n",
    "# winrate_list_train = [0] * trainYear\n",
    "# data_list_train = [0] * trainYear\n",
    "# team_idx_train = [0] * trainYear\n",
    "# data_input_train = [0] * trainYear\n",
    "# loader_train = {}\n",
    "# loader_validation = {}\n",
    "# loader_test = {}\n",
    "# for index in range(trainYear):\n",
    "#     # read the statics and winrate\n",
    "#     playerstats_train = \"Player_Data\\AvgPlayerStats\" + str(index+startYear_train) + \".csv\"\n",
    "#     teamstats_train = \"Team_data\\TeamStats\" + str(index+startYear_train) + \".csv\"\n",
    "#     # change them into numpy\n",
    "#     player_list_train[index] = pd.read_csv(playerstats_train).values\n",
    "#     winrate_list_train[index] = pd.read_csv(teamstats_train).values\n",
    "#     # we throw away the players name,team ,age and so on\n",
    "#     data_list_train[index] = player_list_train[index][:,4:]\n",
    "#     # do normalization\n",
    "#     data_list_train[index] = data_norm(data_list_train[index])   \n",
    "#     # make a index which is abbr\n",
    "#     team_idx_train[index] = make_idx(winrate_list_train[index],Abbr,teamName)\n",
    "#     # put players in a same team into one matrix\n",
    "#     data_input_train[index] = make_team(player_list_train[index],data_list_train[index],team_idx_train[index],str(index+startYear_train),device,dtype,need_idx)\n",
    "#     # put everyyears' data into one dictionary\n",
    "#     loader_train = dict(loader_train,**data_input_train[index])\n",
    "    \n",
    "# player_list_validation = [0] * validationYear\n",
    "# winrate_list_validation = [0] * validationYear\n",
    "# data_list_validation = [0] * validationYear\n",
    "# team_idx_validation = [0] * validationYear\n",
    "# data_input_validation = [0] * validationYear\n",
    "# for index in range(validationYear):\n",
    "#     playerstats_validation = \"Player_Data\\AvgPlayerStats\" + str(index+startYear_validation) + \".csv\"\n",
    "#     teamstats_validation = \"Team_data\\TeamStats\" + str(index+startYear_validation) + \".csv\"\n",
    "#     player_list_validation[index] = pd.read_csv(playerstats_validation).values\n",
    "#     winrate_list_validation[index] = pd.read_csv(teamstats_validation).values\n",
    "#     data_list_validation[index] = player_list_validation[index][:,4:]\n",
    "#     data_list_validation[index] = data_norm(data_list_validation[index])\n",
    "#     team_idx_validation[index] = make_idx(winrate_list_validation[index],Abbr,teamName)\n",
    "#     data_input_validation[index] = make_team(player_list_validation[index],data_list_validation[index],team_idx_validation[index],str(index+startYear_validation),device,dtype,need_idx)\n",
    "#     loader_validation = dict(loader_validation,**data_input_validation[index])\n",
    "# '''"
   ]
  },
  {
   "cell_type": "code",
   "execution_count": 8,
   "metadata": {},
   "outputs": [],
   "source": [
    "'''\n",
    "if the raw file is labeled with team,then use code in this cell, if not,use next cell\n",
    "'''\n",
    "player_list_test = [0] * testYear\n",
    "winrate_list_test = [0] * testYear\n",
    "data_list_test = [0] * testYear\n",
    "team_idx_test = [0] * testYear\n",
    "data_input_test = [0] * testYear\n",
    "for index in range(testYear):\n",
    "    playerstats_test = \"Player_Data/AvgPlayerStats\" + str(index+startYear_test) + \".csv\"\n",
    "    teamstats_test   = \"Team_Data/TeamStats\" + str(index+startYear_test) + \".csv\"\n",
    "    \n",
    "    player_list_test[index] = (pd.read_csv(playerstats_test)).values\n",
    "    winrate_list_test[index] = (pd.read_csv(teamstats_test)).values\n",
    "    \n",
    "    data_list_test[index] = player_list_test[index][:,4:]\n",
    "    data_list_test[index] = data_norm(data_list_test[index])\n",
    "    \n",
    "    team_idx_test[index] = make_idx(winrate_list_test[index],Abbr,teamName)\n",
    "    data_input_test[index] = make_team(player_list_test[index],\n",
    "                                       data_list_test[index],\n",
    "                                       team_idx_test[index],\n",
    "                                       str(index+startYear_test),\n",
    "                                       device,dtype,need_idx)\n",
    "#print((data_input_test[0]['BOS2018']))\n",
    "#train\n",
    "#loader_train"
   ]
  },
  {
   "cell_type": "code",
   "execution_count": 9,
   "metadata": {},
   "outputs": [
    {
     "data": {
      "text/plain": [
       "OrderedDict([('0.0.weight',\n",
       "              tensor([[ 0.2331,  0.0535, -0.0071,  0.0219, -0.0711, -0.1629,  0.2112,  0.0138,\n",
       "                       -0.0278,  0.0070, -0.0656, -0.1519, -0.0515, -0.0335, -0.0185,  0.0774,\n",
       "                       -0.0806, -0.0046,  0.0327, -0.0025,  0.0066, -0.0292,  0.0910, -0.0068,\n",
       "                        0.0370, -0.0357,  0.0239,  0.0836,  0.0815,  0.1201,  0.1651, -0.1435]]))])"
      ]
     },
     "execution_count": 9,
     "metadata": {},
     "output_type": "execute_result"
    }
   ],
   "source": [
    "#load the existing model\n",
    "model = torch.load('Trained_Model/index_code1_poly2.2.fit')\n",
    "model.state_dict()"
   ]
  },
  {
   "cell_type": "code",
   "execution_count": 14,
   "metadata": {},
   "outputs": [
    {
     "name": "stderr",
     "output_type": "stream",
     "text": [
      "/Users/lwx8999/anaconda3/lib/python3.6/site-packages/ipykernel_launcher.py:13: UserWarning: invalid index of a 0-dim tensor. This will be an error in PyTorch 0.5. Use tensor.item() to convert a 0-dim tensor to a Python number\n",
      "  del sys.path[0]\n",
      "/Users/lwx8999/anaconda3/lib/python3.6/site-packages/ipykernel_launcher.py:16: UserWarning: invalid index of a 0-dim tensor. This will be an error in PyTorch 0.5. Use tensor.item() to convert a 0-dim tensor to a Python number\n",
      "  app.launch_new_instance()\n",
      "/Users/lwx8999/anaconda3/lib/python3.6/site-packages/ipykernel_launcher.py:17: UserWarning: invalid index of a 0-dim tensor. This will be an error in PyTorch 0.5. Use tensor.item() to convert a 0-dim tensor to a Python number\n"
     ]
    },
    {
     "name": "stdout",
     "output_type": "stream",
     "text": [
      "tensor([0.5890], grad_fn=<ThAddBackward>) tensor(0.6710)\n",
      "tensor([0.6423], grad_fn=<ThAddBackward>) tensor(0.6340)\n",
      "tensor([0.3717], grad_fn=<ThAddBackward>) tensor(0.3540)\n",
      "tensor([0.5077], grad_fn=<ThAddBackward>) tensor(0.6100)\n",
      "tensor([0.5949], grad_fn=<ThAddBackward>) tensor(0.5850)\n",
      "tensor([0.4613], grad_fn=<ThAddBackward>) tensor(0.5370)\n",
      "tensor([0.5169], grad_fn=<ThAddBackward>) tensor(0.4760)\n",
      "tensor([0.2854], grad_fn=<ThAddBackward>) tensor(0.3290)\n",
      "tensor([0.5419], grad_fn=<ThAddBackward>) tensor(0.5370)\n",
      "tensor([0.5039], grad_fn=<ThAddBackward>) tensor(0.5240)\n",
      "tensor([0.3416], grad_fn=<ThAddBackward>) tensor(0.3050)\n",
      "tensor([0.3153], grad_fn=<ThAddBackward>) tensor(0.2930)\n",
      "tensor([0.6107], grad_fn=<ThAddBackward>) tensor(0.5980)\n",
      "tensor([0.6765], grad_fn=<ThAddBackward>) tensor(0.5850)\n",
      "tensor([0.6801], grad_fn=<ThAddBackward>) tensor(0.5850)\n",
      "tensor([0.6306], grad_fn=<ThAddBackward>) tensor(0.5730)\n",
      "tensor([0.5976], grad_fn=<ThAddBackward>) tensor(0.5610)\n",
      "tensor([0.7160], grad_fn=<ThAddBackward>) tensor(0.7070)\n",
      "tensor([0.4349], grad_fn=<ThAddBackward>) tensor(0.5120)\n",
      "tensor([0.4150], grad_fn=<ThAddBackward>) tensor(0.4270)\n",
      "tensor([0.2781], grad_fn=<ThAddBackward>) tensor(0.3290)\n",
      "tensor([0.2857], grad_fn=<ThAddBackward>) tensor(0.2560)\n",
      "tensor([0.8938], grad_fn=<ThAddBackward>) tensor(0.7930)\n",
      "tensor([0.5478], grad_fn=<ThAddBackward>) tensor(0.5850)\n",
      "tensor([0.6235], grad_fn=<ThAddBackward>) tensor(0.5730)\n",
      "tensor([0.4620], grad_fn=<ThAddBackward>) tensor(0.2930)\n",
      "tensor([0.2784], grad_fn=<ThAddBackward>) tensor(0.2680)\n",
      "tensor(0.1039, grad_fn=<ThAddBackward>)\n"
     ]
    },
    {
     "data": {
      "image/png": "[encoded data removed]",
      "text/plain": [
       "<Figure size 432x288 with 1 Axes>"
      ]
     },
     "metadata": {
      "needs_background": "light"
     },
     "output_type": "display_data"
    }
   ],
   "source": [
    "#see the effect on testing set\n",
    "from matplotlib import pyplot as plt\n",
    "x = []\n",
    "y = []#test\n",
    "loss = 0\n",
    "# change the data_input_test[0] for validation is ok to see performance\n",
    "# change data_input_test[0] to your real input(if one team, no for loop)\n",
    "for t, content in data_input_test[0].items():\n",
    "\n",
    "    PER_C = model(content[0])\n",
    "            # Loss is the mean square error\n",
    "    win_rate = sum(PER_C)\n",
    "    plt.scatter(win_rate[0].data,content[1][0].data)\n",
    "    print(win_rate,content[1])\n",
    "    x.append(win_rate[0].data)\n",
    "    y.append(content[1][0].data)\n",
    "    loss += (win_rate[0]-content[1][0].data)**2\n",
    "print(loss)\n",
    "z1 = np.polyfit(x, y, 1)\n",
    "p1 = np.poly1d(z1)\n",
    "x=np.linspace(0,1,100)\n",
    "y = z1[0]*x+z1[1]\n",
    "\n",
    "l1 = plt.plot(x,y,color='blue',linewidth=1.0,label='line')\n",
    "x=np.linspace(0,1,100)\n",
    "y=x\n",
    "l2 = plt.plot(x,y,color='red',linewidth=1.0,linestyle='--',label='line')\n",
    "plt.legend(labels = ['curve_line', 'y=x'], loc = 'best')\n",
    "plt.show()"
   ]
  }
 ],
 "metadata": {
  "kernelspec": {
   "display_name": "Python 3",
   "language": "python",
   "name": "python3"
  },
  "language_info": {
   "codemirror_mode": {
    "name": "ipython",
    "version": 3
   },
   "file_extension": ".py",
   "mimetype": "text/x-python",
   "name": "python",
   "nbconvert_exporter": "python",
   "pygments_lexer": "ipython3",
   "version": "3.6.6"
  }
 },
 "nbformat": 4,
 "nbformat_minor": 2
}
