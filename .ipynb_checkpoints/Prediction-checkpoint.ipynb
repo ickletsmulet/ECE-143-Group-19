{
 "cells": [
  {
   "cell_type": "code",
   "execution_count": 13,
   "metadata": {},
   "outputs": [],
   "source": [
    "import torch\n",
    "import torch.nn as nn\n",
    "import torch.optim as optim\n",
    "from torch.autograd import Variable\n",
    "from torch.utils.data import DataLoader\n",
    "from torch.utils.data import sampler\n",
    "\n",
    "import torchvision.datasets as dset\n",
    "import torchvision.transforms as T\n",
    "import torch.nn.functional as F\n",
    "import numpy as np\n",
    "\n",
    "import timeit\n",
    "from preprocessing.data_norm import *\n",
    "from preprocessing.make_idx import *\n",
    "#from preprocessing.search_team import *\n",
    "from preprocessing.make_team import *\n",
    "from preprocessing.train import *\n",
    "#from preprocessing.make_input import *\n",
    "import re\n",
    "import copy as cp"
   ]
  },
  {
   "cell_type": "code",
   "execution_count": 14,
   "metadata": {},
   "outputs": [
    {
     "name": "stdout",
     "output_type": "stream",
     "text": [
      "using device: cpu\n"
     ]
    }
   ],
   "source": [
    "USE_GPU = True\n",
    "\n",
    "dtype = torch.float32 # we will be using float throughout this tutorial\n",
    "# the default is gpu but if gpu is not available,then use cpu\n",
    "if USE_GPU and torch.cuda.is_available():\n",
    "    device = torch.device('cuda')\n",
    "else:\n",
    "    device = torch.device('cpu')\n",
    "\n",
    "# Constant to control how frequently we print train loss\n",
    "device = torch.device('cpu')\n",
    "print_every = 100\n",
    "# show which device to use\n",
    "print('using device:', device)"
   ]
  },
  {
   "cell_type": "code",
   "execution_count": 15,
   "metadata": {},
   "outputs": [],
   "source": [
    "import pandas as pd"
   ]
  },
  {
   "cell_type": "code",
   "execution_count": 16,
   "metadata": {},
   "outputs": [],
   "source": [
    "teamName = [\"Atlanta Hawks\",\"Boston Celtics\",\"Brooklyn Nets\",\"Charlotte Bobcats\",\"Charlotte Hornets\",\n",
    "\"Chicago Bulls\",\"Cleveland Cavaliers\",\"Dallas Mavericks\",\"Denver Nuggets\",\"Detroit Pistons\",\n",
    "\"Golden State Warriors\",\"Houston Rockets\",\"Indiana Pacers\",\"Los Angeles Clippers\",\"Los Angeles Lakers\",\n",
    "\"Memphis Grizzlies\",\"Miami Heat\",\"Milwaukee Bucks\",\"Minnesota Timberwolves\",\"New Jeresy Nets\",\n",
    "\"New Orleans Hornets\",\"New Orleans Pelicans\",\"New York Knicks\",\"Oklahoma City Thunder\",\"Orlando Magic\",\n",
    "\"Philadelphia 76ers\",\"Phoenix Suns\",\"Portland Trail Blazers\",\"Sacramento Kings\",\"San Antonio Spurs\",\n",
    "\"Seattle SuperSonics\",\"Toronto Raptors\",\"Utah Jazz\",\"Vancouver Grizzlies\",\"Washington Bullets\",\"Washington Wizards\"]\n",
    "\n",
    "Abbr = [\"ATL\",\"BOS\",\"BKN\",\"CHA\",\"CHA\",\"CHI\",\"CLE\",\"DAL\",\"DEN\",\"DET\",\"GSW\",\"HOU\",\"IND\",\"LAC\",\"LAL\",\"MEM\",\n",
    "\"MIA\",\"MIL\",\"MIN\",\"NJN\",\"NOH\",\"NOP\",\"NYK\",\"OKC\",\"ORL\",\"PHI\",\"PHO\",\"POR\",\"SAC\",\"SAS\",\"SEA\",\"TOR\",\n",
    "\"UTA\",\"VAN\",\"WSB\",\"WAS\"]\n"
   ]
  },
  {
   "cell_type": "code",
   "execution_count": 17,
   "metadata": {},
   "outputs": [],
   "source": [
    "'''\n",
    "when use different idx,we use different features to do training\n",
    "note:!when saving the model, we should tell which idx used\n",
    "'''\n",
    "\n",
    "#index_code1\n",
    "need_idx = [1,2,3,4,5,6,7,8,9,10,11,12,17,18,19,20]\n",
    "#need_idx = [2,3,4,5,6,7,8,9,10,11,12,17,18,19]\n",
    "#need_idx = [1]"
   ]
  },
  {
   "cell_type": "code",
   "execution_count": 6,
   "metadata": {},
   "outputs": [
    {
     "data": {
      "text/plain": [
       "'\\n# 25 years training, 4 validation, 1 testing\\ntrainYear = 25\\nstartYear_train = 1989\\nvalidationYear = 4\\nstartYear_validation = startYear_train + trainYear\\ntestYear = 1\\nstartYear_test = startYear_validation + validationYear\\n#initialization\\nplayer_list_train = [0] * trainYear\\nwinrate_list_train = [0] * trainYear\\ndata_list_train = [0] * trainYear\\nteam_idx_train = [0] * trainYear\\ndata_input_train = [0] * trainYear\\nloader_train = {}\\nloader_validation = {}\\nloader_test = {}\\nfor index in range(trainYear):\\n    # read the statics and winrate\\n    playerstats_train = \"Player_Data\\\\AvgPlayerStats\" + str(index+startYear_train) + \".csv\"\\n    teamstats_train = \"Team_data\\\\TeamStats\" + str(index+startYear_train) + \".csv\"\\n    # change them into numpy\\n    player_list_train[index] = pd.read_csv(playerstats_train).values\\n    winrate_list_train[index] = pd.read_csv(teamstats_train).values\\n    # we throw away the players name,team ,age and so on\\n    data_list_train[index] = player_list_train[index][:,4:]\\n    # do normalization\\n    data_list_train[index] = data_norm(data_list_train[index])   \\n    # make a index which is abbr\\n    team_idx_train[index] = make_idx(winrate_list_train[index],Abbr,teamName)\\n    # put players in a same team into one matrix\\n    data_input_train[index] = make_team(player_list_train[index],data_list_train[index],team_idx_train[index],str(index+startYear_train),device,dtype,need_idx)\\n    # put everyyears\\' data into one dictionary\\n    loader_train = dict(loader_train,**data_input_train[index])\\n    \\nplayer_list_validation = [0] * validationYear\\nwinrate_list_validation = [0] * validationYear\\ndata_list_validation = [0] * validationYear\\nteam_idx_validation = [0] * validationYear\\ndata_input_validation = [0] * validationYear\\nfor index in range(validationYear):\\n    playerstats_validation = \"Player_Data\\\\AvgPlayerStats\" + str(index+startYear_validation) + \".csv\"\\n    teamstats_validation = \"Team_data\\\\TeamStats\" + str(index+startYear_validation) + \".csv\"\\n    player_list_validation[index] = pd.read_csv(playerstats_validation).values\\n    winrate_list_validation[index] = pd.read_csv(teamstats_validation).values\\n    data_list_validation[index] = player_list_validation[index][:,4:]\\n    data_list_validation[index] = data_norm(data_list_validation[index])\\n    team_idx_validation[index] = make_idx(winrate_list_validation[index],Abbr,teamName)\\n    data_input_validation[index] = make_team(player_list_validation[index],data_list_validation[index],team_idx_validation[index],str(index+startYear_validation),device,dtype,need_idx)\\n    loader_validation = dict(loader_validation,**data_input_validation[index])\\n'"
      ]
     },
     "execution_count": 6,
     "metadata": {},
     "output_type": "execute_result"
    }
   ],
   "source": [
    "'''\n",
    "# 25 years training, 4 validation, 1 testing\n",
    "trainYear = 25\n",
    "startYear_train = 1989\n",
    "validationYear = 4\n",
    "startYear_validation = startYear_train + trainYear\n",
    "testYear = 1\n",
    "startYear_test = startYear_validation + validationYear\n",
    "#initialization\n",
    "player_list_train = [0] * trainYear\n",
    "winrate_list_train = [0] * trainYear\n",
    "data_list_train = [0] * trainYear\n",
    "team_idx_train = [0] * trainYear\n",
    "data_input_train = [0] * trainYear\n",
    "loader_train = {}\n",
    "loader_validation = {}\n",
    "loader_test = {}\n",
    "for index in range(trainYear):\n",
    "    # read the statics and winrate\n",
    "    playerstats_train = \"Player_Data\\AvgPlayerStats\" + str(index+startYear_train) + \".csv\"\n",
    "    teamstats_train = \"Team_data\\TeamStats\" + str(index+startYear_train) + \".csv\"\n",
    "    # change them into numpy\n",
    "    player_list_train[index] = pd.read_csv(playerstats_train).values\n",
    "    winrate_list_train[index] = pd.read_csv(teamstats_train).values\n",
    "    # we throw away the players name,team ,age and so on\n",
    "    data_list_train[index] = player_list_train[index][:,4:]\n",
    "    # do normalization\n",
    "    data_list_train[index] = data_norm(data_list_train[index])   \n",
    "    # make a index which is abbr\n",
    "    team_idx_train[index] = make_idx(winrate_list_train[index],Abbr,teamName)\n",
    "    # put players in a same team into one matrix\n",
    "    data_input_train[index] = make_team(player_list_train[index],data_list_train[index],team_idx_train[index],str(index+startYear_train),device,dtype,need_idx)\n",
    "    # put everyyears' data into one dictionary\n",
    "    loader_train = dict(loader_train,**data_input_train[index])\n",
    "    \n",
    "player_list_validation = [0] * validationYear\n",
    "winrate_list_validation = [0] * validationYear\n",
    "data_list_validation = [0] * validationYear\n",
    "team_idx_validation = [0] * validationYear\n",
    "data_input_validation = [0] * validationYear\n",
    "for index in range(validationYear):\n",
    "    playerstats_validation = \"Player_Data\\AvgPlayerStats\" + str(index+startYear_validation) + \".csv\"\n",
    "    teamstats_validation = \"Team_data\\TeamStats\" + str(index+startYear_validation) + \".csv\"\n",
    "    player_list_validation[index] = pd.read_csv(playerstats_validation).values\n",
    "    winrate_list_validation[index] = pd.read_csv(teamstats_validation).values\n",
    "    data_list_validation[index] = player_list_validation[index][:,4:]\n",
    "    data_list_validation[index] = data_norm(data_list_validation[index])\n",
    "    team_idx_validation[index] = make_idx(winrate_list_validation[index],Abbr,teamName)\n",
    "    data_input_validation[index] = make_team(player_list_validation[index],data_list_validation[index],team_idx_validation[index],str(index+startYear_validation),device,dtype,need_idx)\n",
    "    loader_validation = dict(loader_validation,**data_input_validation[index])\n",
    "'''"
   ]
  },
  {
   "cell_type": "code",
   "execution_count": 18,
   "metadata": {},
   "outputs": [
    {
     "ename": "NameError",
     "evalue": "name 'testYear' is not defined",
     "output_type": "error",
     "traceback": [
      "\u001b[0;31m---------------------------------------------------------------------------\u001b[0m",
      "\u001b[0;31mNameError\u001b[0m                                 Traceback (most recent call last)",
      "\u001b[0;32m<ipython-input-18-6f66cca348e6>\u001b[0m in \u001b[0;36m<module>\u001b[0;34m\u001b[0m\n\u001b[1;32m      3\u001b[0m '''\n\u001b[1;32m      4\u001b[0m \u001b[0;34m\u001b[0m\u001b[0m\n\u001b[0;32m----> 5\u001b[0;31m \u001b[0mplayer_list_test\u001b[0m \u001b[0;34m=\u001b[0m \u001b[0;34m[\u001b[0m\u001b[0;36m0\u001b[0m\u001b[0;34m]\u001b[0m \u001b[0;34m*\u001b[0m \u001b[0mtestYear\u001b[0m\u001b[0;34m\u001b[0m\u001b[0m\n\u001b[0m\u001b[1;32m      6\u001b[0m \u001b[0mwinrate_list_test\u001b[0m \u001b[0;34m=\u001b[0m \u001b[0;34m[\u001b[0m\u001b[0;36m0\u001b[0m\u001b[0;34m]\u001b[0m \u001b[0;34m*\u001b[0m \u001b[0mtestYear\u001b[0m\u001b[0;34m\u001b[0m\u001b[0m\n\u001b[1;32m      7\u001b[0m \u001b[0mdata_list_test\u001b[0m \u001b[0;34m=\u001b[0m \u001b[0;34m[\u001b[0m\u001b[0;36m0\u001b[0m\u001b[0;34m]\u001b[0m \u001b[0;34m*\u001b[0m \u001b[0mtestYear\u001b[0m\u001b[0;34m\u001b[0m\u001b[0m\n",
      "\u001b[0;31mNameError\u001b[0m: name 'testYear' is not defined"
     ]
    }
   ],
   "source": [
    "'''\n",
    "if the raw file is labeled with team,then use code in this cell, if not,use next cell\n",
    "'''\n",
    "\n",
    "player_list_test = [0] * testYear\n",
    "winrate_list_test = [0] * testYear\n",
    "data_list_test = [0] * testYear\n",
    "team_idx_test = [0] * testYear\n",
    "data_input_test = [0] * testYear\n",
    "for index in range(testYear):\n",
    "    playerstats_test = \"Player_Data\\AvgPlayerStats\" + str(index+startYear_test) + \".csv\"\n",
    "    teamstats_test = \"Team_data\\TeamStats\" + str(index+startYear_test) + \".csv\"\n",
    "    player_list_test[index] = (pd.read_csv(playerstats_test)).values\n",
    "    winrate_list_test[index] = (pd.read_csv(teamstats_test)).values\n",
    "    data_list_test[index] = player_list_test[index][:,4:]\n",
    "    data_list_test[index] = data_norm(data_list_test[index])\n",
    "    team_idx_test[index] = make_idx(winrate_list_test[index],Abbr,teamName)\n",
    "    data_input_test[index] = make_team(player_list_test[index],data_list_test[index],team_idx_test[index],str(index+startYear_test),device,dtype,need_idx)\n",
    "#print(data_input_test[0]['BOS2018'])\n",
    "#train\n",
    "#loader_train"
   ]
  },
  {
   "cell_type": "code",
   "execution_count": 8,
   "metadata": {},
   "outputs": [
    {
     "ename": "NameError",
     "evalue": "name 'index' is not defined",
     "output_type": "error",
     "traceback": [
      "\u001b[0;31m---------------------------------------------------------------------------\u001b[0m",
      "\u001b[0;31mNameError\u001b[0m                                 Traceback (most recent call last)",
      "\u001b[0;32m<ipython-input-8-07ad17cba74c>\u001b[0m in \u001b[0;36m<module>\u001b[0;34m\u001b[0m\n\u001b[1;32m      1\u001b[0m \u001b[0;31m# change the file name\u001b[0m\u001b[0;34m\u001b[0m\u001b[0;34m\u001b[0m\u001b[0m\n\u001b[0;32m----> 2\u001b[0;31m \u001b[0mplayerstats_test\u001b[0m \u001b[0;34m=\u001b[0m \u001b[0;34m\"Player_Data\\AvgPlayerStats\"\u001b[0m \u001b[0;34m+\u001b[0m \u001b[0mstr\u001b[0m\u001b[0;34m(\u001b[0m\u001b[0mindex\u001b[0m\u001b[0;34m+\u001b[0m\u001b[0mstartYear_test\u001b[0m\u001b[0;34m)\u001b[0m \u001b[0;34m+\u001b[0m \u001b[0;34m\".csv\"\u001b[0m\u001b[0;34m\u001b[0m\u001b[0m\n\u001b[0m\u001b[1;32m      3\u001b[0m \u001b[0mteamstats_test\u001b[0m \u001b[0;34m=\u001b[0m \u001b[0;34m\"Team_data\\TeamStats\"\u001b[0m \u001b[0;34m+\u001b[0m \u001b[0mstr\u001b[0m\u001b[0;34m(\u001b[0m\u001b[0mindex\u001b[0m\u001b[0;34m+\u001b[0m\u001b[0mstartYear_test\u001b[0m\u001b[0;34m)\u001b[0m \u001b[0;34m+\u001b[0m \u001b[0;34m\".csv\"\u001b[0m\u001b[0;34m\u001b[0m\u001b[0m\n\u001b[1;32m      4\u001b[0m \u001b[0mplayer_list_test\u001b[0m \u001b[0;34m=\u001b[0m \u001b[0;34m(\u001b[0m\u001b[0mpd\u001b[0m\u001b[0;34m.\u001b[0m\u001b[0mread_csv\u001b[0m\u001b[0;34m(\u001b[0m\u001b[0mplayerstats_test\u001b[0m\u001b[0;34m)\u001b[0m\u001b[0;34m)\u001b[0m\u001b[0;34m.\u001b[0m\u001b[0mvalues\u001b[0m\u001b[0;34m\u001b[0m\u001b[0m\n\u001b[1;32m      5\u001b[0m \u001b[0mwinrate_list_test\u001b[0m \u001b[0;34m=\u001b[0m \u001b[0;34m(\u001b[0m\u001b[0mpd\u001b[0m\u001b[0;34m.\u001b[0m\u001b[0mread_csv\u001b[0m\u001b[0;34m(\u001b[0m\u001b[0mteamstats_test\u001b[0m\u001b[0;34m)\u001b[0m\u001b[0;34m)\u001b[0m\u001b[0;34m.\u001b[0m\u001b[0mvalues\u001b[0m\u001b[0;34m\u001b[0m\u001b[0m\n",
      "\u001b[0;31mNameError\u001b[0m: name 'index' is not defined"
     ]
    }
   ],
   "source": [
    "# change the file name\n",
    "playerstats_test = \"Player_Data\\AvgPlayerStats\" + str(index+startYear_test) + \".csv\"\n",
    "teamstats_test = \"Team_data\\TeamStats\" + str(index+startYear_test) + \".csv\"\n",
    "player_list_test = (pd.read_csv(playerstats_test)).values\n",
    "winrate_list_test = (pd.read_csv(teamstats_test)).values\n",
    "# 4 could be changed, it correspond to the column of played minutes per season\n",
    "data_list_test = player_list_test[:,4:]\n",
    "data_list_test = data_norm(data_list_test)\n",
    "data_input_test = make_input(data_list_test)"
   ]
  },
  {
   "cell_type": "code",
   "execution_count": 9,
   "metadata": {},
   "outputs": [
    {
     "ename": "FileNotFoundError",
     "evalue": "[Errno 2] No such file or directory: 'trained_model\\\\index_code1_poly2.2.fit'",
     "output_type": "error",
     "traceback": [
      "\u001b[0;31m---------------------------------------------------------------------------\u001b[0m",
      "\u001b[0;31mFileNotFoundError\u001b[0m                         Traceback (most recent call last)",
      "\u001b[0;32m<ipython-input-9-ea87cff87003>\u001b[0m in \u001b[0;36m<module>\u001b[0;34m\u001b[0m\n\u001b[1;32m      1\u001b[0m \u001b[0;31m#load the existing model\u001b[0m\u001b[0;34m\u001b[0m\u001b[0;34m\u001b[0m\u001b[0m\n\u001b[0;32m----> 2\u001b[0;31m \u001b[0mmodel\u001b[0m \u001b[0;34m=\u001b[0m \u001b[0mtorch\u001b[0m\u001b[0;34m.\u001b[0m\u001b[0mload\u001b[0m\u001b[0;34m(\u001b[0m\u001b[0;34m'trained_model\\index_code1_poly2.2.fit'\u001b[0m\u001b[0;34m)\u001b[0m\u001b[0;34m\u001b[0m\u001b[0m\n\u001b[0m\u001b[1;32m      3\u001b[0m \u001b[0mmodel\u001b[0m\u001b[0;34m.\u001b[0m\u001b[0mstate_dict\u001b[0m\u001b[0;34m(\u001b[0m\u001b[0;34m)\u001b[0m\u001b[0;34m\u001b[0m\u001b[0m\n",
      "\u001b[0;32m~/anaconda3/lib/python3.6/site-packages/torch/serialization.py\u001b[0m in \u001b[0;36mload\u001b[0;34m(f, map_location, pickle_module)\u001b[0m\n\u001b[1;32m    354\u001b[0m             \u001b[0;34m(\u001b[0m\u001b[0msys\u001b[0m\u001b[0;34m.\u001b[0m\u001b[0mversion_info\u001b[0m\u001b[0;34m[\u001b[0m\u001b[0;36m0\u001b[0m\u001b[0;34m]\u001b[0m \u001b[0;34m==\u001b[0m \u001b[0;36m3\u001b[0m \u001b[0;32mand\u001b[0m \u001b[0misinstance\u001b[0m\u001b[0;34m(\u001b[0m\u001b[0mf\u001b[0m\u001b[0;34m,\u001b[0m \u001b[0mpathlib\u001b[0m\u001b[0;34m.\u001b[0m\u001b[0mPath\u001b[0m\u001b[0;34m)\u001b[0m\u001b[0;34m)\u001b[0m\u001b[0;34m:\u001b[0m\u001b[0;34m\u001b[0m\u001b[0m\n\u001b[1;32m    355\u001b[0m         \u001b[0mnew_fd\u001b[0m \u001b[0;34m=\u001b[0m \u001b[0;32mTrue\u001b[0m\u001b[0;34m\u001b[0m\u001b[0m\n\u001b[0;32m--> 356\u001b[0;31m         \u001b[0mf\u001b[0m \u001b[0;34m=\u001b[0m \u001b[0mopen\u001b[0m\u001b[0;34m(\u001b[0m\u001b[0mf\u001b[0m\u001b[0;34m,\u001b[0m \u001b[0;34m'rb'\u001b[0m\u001b[0;34m)\u001b[0m\u001b[0;34m\u001b[0m\u001b[0m\n\u001b[0m\u001b[1;32m    357\u001b[0m     \u001b[0;32mtry\u001b[0m\u001b[0;34m:\u001b[0m\u001b[0;34m\u001b[0m\u001b[0m\n\u001b[1;32m    358\u001b[0m         \u001b[0;32mreturn\u001b[0m \u001b[0m_load\u001b[0m\u001b[0;34m(\u001b[0m\u001b[0mf\u001b[0m\u001b[0;34m,\u001b[0m \u001b[0mmap_location\u001b[0m\u001b[0;34m,\u001b[0m \u001b[0mpickle_module\u001b[0m\u001b[0;34m)\u001b[0m\u001b[0;34m\u001b[0m\u001b[0m\n",
      "\u001b[0;31mFileNotFoundError\u001b[0m: [Errno 2] No such file or directory: 'trained_model\\\\index_code1_poly2.2.fit'"
     ]
    }
   ],
   "source": [
    "#load the existing model\n",
    "model = torch.load('trained_model\\index_code1_poly2.2.fit')\n",
    "model.state_dict()"
   ]
  },
  {
   "cell_type": "code",
   "execution_count": 10,
   "metadata": {},
   "outputs": [
    {
     "ename": "NameError",
     "evalue": "name 'data_input_test' is not defined",
     "output_type": "error",
     "traceback": [
      "\u001b[0;31m---------------------------------------------------------------------------\u001b[0m",
      "\u001b[0;31mNameError\u001b[0m                                 Traceback (most recent call last)",
      "\u001b[0;32m<ipython-input-10-129a11f5e244>\u001b[0m in \u001b[0;36m<module>\u001b[0;34m\u001b[0m\n\u001b[1;32m      6\u001b[0m \u001b[0;31m# change the data_input_test[0] for validation is ok to see performance\u001b[0m\u001b[0;34m\u001b[0m\u001b[0;34m\u001b[0m\u001b[0m\n\u001b[1;32m      7\u001b[0m \u001b[0;31m# change data_input_test[0] to your real input(if one team, no for loop)\u001b[0m\u001b[0;34m\u001b[0m\u001b[0;34m\u001b[0m\u001b[0m\n\u001b[0;32m----> 8\u001b[0;31m \u001b[0;32mfor\u001b[0m \u001b[0mt\u001b[0m\u001b[0;34m,\u001b[0m \u001b[0mcontent\u001b[0m \u001b[0;32min\u001b[0m \u001b[0mdata_input_test\u001b[0m\u001b[0;34m[\u001b[0m\u001b[0;36m0\u001b[0m\u001b[0;34m]\u001b[0m\u001b[0;34m.\u001b[0m\u001b[0mitems\u001b[0m\u001b[0;34m(\u001b[0m\u001b[0;34m)\u001b[0m\u001b[0;34m:\u001b[0m\u001b[0;34m\u001b[0m\u001b[0m\n\u001b[0m\u001b[1;32m      9\u001b[0m \u001b[0;34m\u001b[0m\u001b[0m\n\u001b[1;32m     10\u001b[0m     \u001b[0mPER_C\u001b[0m \u001b[0;34m=\u001b[0m \u001b[0mmodel\u001b[0m\u001b[0;34m(\u001b[0m\u001b[0mcontent\u001b[0m\u001b[0;34m[\u001b[0m\u001b[0;36m0\u001b[0m\u001b[0;34m]\u001b[0m\u001b[0;34m)\u001b[0m\u001b[0;34m\u001b[0m\u001b[0m\n",
      "\u001b[0;31mNameError\u001b[0m: name 'data_input_test' is not defined"
     ]
    }
   ],
   "source": [
    "#see the effect on testing set\n",
    "from matplotlib import pyplot as plt\n",
    "x = []\n",
    "y = []#test\n",
    "loss = 0\n",
    "# change the data_input_test[0] for validation is ok to see performance\n",
    "# change data_input_test[0] to your real input(if one team, no for loop)\n",
    "for t, content in data_input_test[0].items():\n",
    "\n",
    "    PER_C = model(content[0])\n",
    "            # Loss is the mean square error\n",
    "    win_rate = sum(PER_C)\n",
    "    plt.scatter(win_rate[0].data,content[1][0].data)\n",
    "    print(win_rate,content[1])\n",
    "    x.append(win_rate[0].data)\n",
    "    y.append(content[1][0].data)\n",
    "    loss += (win_rate[0]-content[1][0].data)**2\n",
    "print(loss)\n",
    "z1 = np.polyfit(x, y, 1)\n",
    "p1 = np.poly1d(z1)\n",
    "x=np.linspace(0,1,100)\n",
    "y = z1[0]*x+z1[1]\n",
    "\n",
    "l1 = plt.plot(x,y,color='blue',linewidth=1.0,label='line')\n",
    "x=np.linspace(0,1,100)\n",
    "y =x\n",
    "l2 = plt.plot(x,y,color='red',linewidth=1.0,linestyle='--',label='line')\n",
    "plt.legend(labels = ['curve_line', 'y=x'], loc = 'best')\n",
    "plt.show()"
   ]
  },
  {
   "cell_type": "code",
   "execution_count": null,
   "metadata": {},
   "outputs": [],
   "source": []
  },
  {
   "cell_type": "code",
   "execution_count": null,
   "metadata": {
    "scrolled": true
   },
   "outputs": [],
   "source": []
  }
 ],
 "metadata": {
  "kernelspec": {
   "display_name": "Python 3",
   "language": "python",
   "name": "python3"
  },
  "language_info": {
   "codemirror_mode": {
    "name": "ipython",
    "version": 3
   },
   "file_extension": ".py",
   "mimetype": "text/x-python",
   "name": "python",
   "nbconvert_exporter": "python",
   "pygments_lexer": "ipython3",
   "version": "3.6.6"
  }
 },
 "nbformat": 4,
 "nbformat_minor": 2
}
