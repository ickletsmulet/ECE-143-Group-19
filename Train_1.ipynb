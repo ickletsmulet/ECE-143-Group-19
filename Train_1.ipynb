{
 "cells": [
  {
   "cell_type": "code",
   "execution_count": 1,
   "metadata": {},
   "outputs": [],
   "source": [
    "import torch\n",
    "import torch.nn as nn\n",
    "import torch.optim as optim\n",
    "from torch.autograd import Variable\n",
    "from torch.utils.data import DataLoader\n",
    "from torch.utils.data import sampler\n",
    "\n",
    "import torchvision.datasets as dset\n",
    "import torchvision.transforms as T\n",
    "import torch.nn.functional as F\n",
    "import numpy as np\n",
    "\n",
    "import timeit\n",
    "from preprocessing.data_norm import *\n",
    "from preprocessing.make_idx import *\n",
    "from preprocessing.search_team import *\n",
    "from preprocessing.make_team import *\n",
    "from preprocessing.train import *\n",
    "import re\n",
    "import copy as cp"
   ]
  },
  {
   "cell_type": "code",
   "execution_count": 2,
   "metadata": {},
   "outputs": [
    {
     "name": "stdout",
     "output_type": "stream",
     "text": [
      "using device: cuda\n"
     ]
    }
   ],
   "source": [
    "USE_GPU = True\n",
    "\n",
    "dtype = torch.float32 # we will be using float throughout this tutorial\n",
    "# the default is gpu but if gpu is not available,then use cpu\n",
    "if USE_GPU and torch.cuda.is_available():\n",
    "    device = torch.device('cuda')\n",
    "else:\n",
    "    device = torch.device('cpu')\n",
    "\n",
    "# Constant to control how frequently we print train loss\n",
    "print_every = 100\n",
    "# show which device to use\n",
    "print('using device:', device)"
   ]
  },
  {
   "cell_type": "code",
   "execution_count": 3,
   "metadata": {},
   "outputs": [],
   "source": [
    "import pandas as pd"
   ]
  },
  {
   "cell_type": "code",
   "execution_count": 4,
   "metadata": {},
   "outputs": [],
   "source": [
    "teamName = [\"Atlanta Hawks\",\"Boston Celtics\",\"Brooklyn Nets\",\"Charlotte Bobcats\",\"Charlotte Hornets\",\n",
    "\"Chicago Bulls\",\"Cleveland Cavaliers\",\"Dallas Mavericks\",\"Denver Nuggets\",\"Detroit Pistons\",\n",
    "\"Golden State Warriors\",\"Houston Rockets\",\"Indiana Pacers\",\"Los Angeles Clippers\",\"Los Angeles Lakers\",\n",
    "\"Memphis Grizzlies\",\"Miami Heat\",\"Milwaukee Bucks\",\"Minnesota Timberwolves\",\"New Jeresy Nets\",\n",
    "\"New Orleans Hornets\",\"New Orleans Pelicans\",\"New York Knicks\",\"Oklahoma City Thunder\",\"Orlando Magic\",\n",
    "\"Philadelphia 76ers\",\"Phoenix Suns\",\"Portland Trail Blazers\",\"Sacramento Kings\",\"San Antonio Spurs\",\n",
    "\"Seattle SuperSonics\",\"Toronto Raptors\",\"Utah Jazz\",\"Vancouver Grizzlies\",\"Washington Bullets\",\"Washington Wizards\"]\n",
    "\n",
    "Abbr = [\"ATL\",\"BOS\",\"BKN\",\"CHA\",\"CHA\",\"CHI\",\"CLE\",\"DAL\",\"DEN\",\"DET\",\"GSW\",\"HOU\",\"IND\",\"LAC\",\"LAL\",\"MEM\",\n",
    "\"MIA\",\"MIL\",\"MIN\",\"NJN\",\"NOH\",\"NOP\",\"NYK\",\"OKC\",\"ORL\",\"PHI\",\"PHO\",\"POR\",\"SAC\",\"SAS\",\"SEA\",\"TOR\",\n",
    "\"UTA\",\"VAN\",\"WSB\",\"WAS\"]\n"
   ]
  },
  {
   "cell_type": "code",
   "execution_count": 5,
   "metadata": {},
   "outputs": [],
   "source": [
    "'''\n",
    "when use different idx,we use different features to do training\n",
    "note:!when saving the model, we should tell which idx used\n",
    "'''\n",
    "\n",
    "#index_code1\n",
    "need_idx = [1,2,3,4,5,6,7,8,9,10,11,12,17,18,19,20]\n",
    "#need_idx = [2,3,4,5,6,7,8,9,10,11,12,17,18,19]\n",
    "#need_idx = [1]"
   ]
  },
  {
   "cell_type": "code",
   "execution_count": 6,
   "metadata": {},
   "outputs": [],
   "source": [
    "\n",
    "# 25 years training, 4 validation, 1 testing\n",
    "trainYear = 25\n",
    "startYear_train = 1989\n",
    "validationYear = 4\n",
    "startYear_validation = startYear_train + trainYear\n",
    "testYear = 1\n",
    "startYear_test = startYear_validation + validationYear\n",
    "#initialization\n",
    "player_list_train = [0] * trainYear\n",
    "winrate_list_train = [0] * trainYear\n",
    "data_list_train = [0] * trainYear\n",
    "team_idx_train = [0] * trainYear\n",
    "data_input_train = [0] * trainYear\n",
    "loader_train = {}\n",
    "loader_validation = {}\n",
    "loader_test = {}\n",
    "for index in range(trainYear):\n",
    "    # read the statics and winrate\n",
    "    playerstats_train = \"Player_Data\\AvgPlayerStats\" + str(index+startYear_train) + \".csv\"\n",
    "    teamstats_train = \"Team_data\\TeamStats\" + str(index+startYear_train) + \".csv\"\n",
    "    # change them into numpy\n",
    "    player_list_train[index] = pd.read_csv(playerstats_train).values\n",
    "    winrate_list_train[index] = pd.read_csv(teamstats_train).values\n",
    "    # we throw away the players name,team ,age and so on\n",
    "    data_list_train[index] = player_list_train[index][:,4:]\n",
    "    # do normalization\n",
    "    data_list_train[index] = data_norm(data_list_train[index])   \n",
    "    # make a index which is abbr\n",
    "    team_idx_train[index] = make_idx(winrate_list_train[index],Abbr,teamName)\n",
    "    # put players in a same team into one matrix\n",
    "    data_input_train[index] = make_team(player_list_train[index],data_list_train[index],team_idx_train[index],str(index+startYear_train),device,dtype,need_idx)\n",
    "    # put everyyears' data into one dictionary\n",
    "    loader_train = dict(loader_train,**data_input_train[index])\n",
    "    \n",
    "player_list_validation = [0] * validationYear\n",
    "winrate_list_validation = [0] * validationYear\n",
    "data_list_validation = [0] * validationYear\n",
    "team_idx_validation = [0] * validationYear\n",
    "data_input_validation = [0] * validationYear\n",
    "for index in range(validationYear):\n",
    "    playerstats_validation = \"Player_Data\\AvgPlayerStats\" + str(index+startYear_validation) + \".csv\"\n",
    "    teamstats_validation = \"Team_data\\TeamStats\" + str(index+startYear_validation) + \".csv\"\n",
    "    player_list_validation[index] = pd.read_csv(playerstats_validation).values\n",
    "    winrate_list_validation[index] = pd.read_csv(teamstats_validation).values\n",
    "    data_list_validation[index] = player_list_validation[index][:,4:]\n",
    "    data_list_validation[index] = data_norm(data_list_validation[index])\n",
    "    team_idx_validation[index] = make_idx(winrate_list_validation[index],Abbr,teamName)\n",
    "    data_input_validation[index] = make_team(player_list_validation[index],data_list_validation[index],team_idx_validation[index],str(index+startYear_validation),device,dtype,need_idx)\n",
    "    loader_validation = dict(loader_validation,**data_input_validation[index])"
   ]
  },
  {
   "cell_type": "code",
   "execution_count": 7,
   "metadata": {},
   "outputs": [],
   "source": [
    "\n",
    "\n",
    "player_list_test = [0] * testYear\n",
    "winrate_list_test = [0] * testYear\n",
    "data_list_test = [0] * testYear\n",
    "team_idx_test = [0] * testYear\n",
    "data_input_test = [0] * testYear\n",
    "for index in range(testYear):\n",
    "    playerstats_test = \"Player_Data\\AvgPlayerStats\" + str(index+startYear_test) + \".csv\"\n",
    "    teamstats_test = \"Team_data\\TeamStats\" + str(index+startYear_test) + \".csv\"\n",
    "    player_list_test[index] = (pd.read_csv(playerstats_test)).values\n",
    "    winrate_list_test[index] = (pd.read_csv(teamstats_test)).values\n",
    "    data_list_test[index] = player_list_test[index][:,4:]\n",
    "    data_list_test[index] = data_norm(data_list_test[index])\n",
    "    team_idx_test[index] = make_idx(winrate_list_test[index],Abbr,teamName)\n",
    "    data_input_test[index] = make_team(player_list_test[index],data_list_test[index],team_idx_test[index],str(index+startYear_test),device,dtype,need_idx)\n",
    "#print(data_input_test[0]['BOS2018'])\n",
    "#train\n",
    "#loader_train"
   ]
  },
  {
   "cell_type": "code",
   "execution_count": 8,
   "metadata": {
    "scrolled": true
   },
   "outputs": [
    {
     "name": "stdout",
     "output_type": "stream",
     "text": [
      "0\n"
     ]
    },
    {
     "ename": "KeyboardInterrupt",
     "evalue": "",
     "output_type": "error",
     "traceback": [
      "\u001b[1;31m---------------------------------------------------------------------------\u001b[0m",
      "\u001b[1;31mKeyboardInterrupt\u001b[0m                         Traceback (most recent call last)",
      "\u001b[1;32m<ipython-input-8-1651b52cf5a0>\u001b[0m in \u001b[0;36m<module>\u001b[1;34m()\u001b[0m\n\u001b[0;32m     44\u001b[0m \u001b[1;31m#print_every = 1000\u001b[0m\u001b[1;33m\u001b[0m\u001b[1;33m\u001b[0m\u001b[0m\n\u001b[0;32m     45\u001b[0m \u001b[1;33m\u001b[0m\u001b[0m\n\u001b[1;32m---> 46\u001b[1;33m \u001b[0mtrain\u001b[0m\u001b[1;33m(\u001b[0m\u001b[0mmodel\u001b[0m\u001b[1;33m,\u001b[0m \u001b[0mloader_train\u001b[0m\u001b[1;33m,\u001b[0m\u001b[0mdevice\u001b[0m\u001b[1;33m,\u001b[0m\u001b[0moptimizer\u001b[0m\u001b[1;33m,\u001b[0m\u001b[0mdtype\u001b[0m\u001b[1;33m,\u001b[0m\u001b[0mepochs\u001b[0m\u001b[1;33m=\u001b[0m\u001b[1;36m1000\u001b[0m\u001b[1;33m,\u001b[0m\u001b[0mprint_process\u001b[0m\u001b[1;33m=\u001b[0m\u001b[1;32mFalse\u001b[0m\u001b[1;33m)\u001b[0m\u001b[1;33m\u001b[0m\u001b[0m\n\u001b[0m",
      "\u001b[1;32mC:\\Users\\yidi6\\Desktop\\ece143\\pj\\preprocessing\\train.py\u001b[0m in \u001b[0;36mtrain\u001b[1;34m(model, loader_train, device, optimizer, dtype, epochs, print_process)\u001b[0m\n\u001b[0;32m     28\u001b[0m \u001b[1;33m\u001b[0m\u001b[0m\n\u001b[0;32m     29\u001b[0m \u001b[1;33m\u001b[0m\u001b[0m\n\u001b[1;32m---> 30\u001b[1;33m             \u001b[0mwin_rate\u001b[0m \u001b[1;33m=\u001b[0m \u001b[0msum\u001b[0m\u001b[1;33m(\u001b[0m\u001b[0mPER_C\u001b[0m\u001b[1;33m)\u001b[0m\u001b[1;33m\u001b[0m\u001b[0m\n\u001b[0m\u001b[0;32m     31\u001b[0m             \u001b[0mcriterion\u001b[0m \u001b[1;33m=\u001b[0m\u001b[0mnn\u001b[0m\u001b[1;33m.\u001b[0m\u001b[0mMSELoss\u001b[0m\u001b[1;33m(\u001b[0m\u001b[1;33m)\u001b[0m\u001b[1;33m\u001b[0m\u001b[0m\n\u001b[0;32m     32\u001b[0m \u001b[1;33m\u001b[0m\u001b[0m\n",
      "\u001b[1;32mE:\\Anaconda\\envs\\cs231n\\lib\\site-packages\\torch\\tensor.py\u001b[0m in \u001b[0;36m<lambda>\u001b[1;34m(i)\u001b[0m\n\u001b[0;32m    380\u001b[0m         \u001b[1;32mif\u001b[0m \u001b[0mself\u001b[0m\u001b[1;33m.\u001b[0m\u001b[0mdim\u001b[0m\u001b[1;33m(\u001b[0m\u001b[1;33m)\u001b[0m \u001b[1;33m==\u001b[0m \u001b[1;36m0\u001b[0m\u001b[1;33m:\u001b[0m\u001b[1;33m\u001b[0m\u001b[0m\n\u001b[0;32m    381\u001b[0m             \u001b[1;32mraise\u001b[0m \u001b[0mTypeError\u001b[0m\u001b[1;33m(\u001b[0m\u001b[1;34m'iteration over a 0-d tensor'\u001b[0m\u001b[1;33m)\u001b[0m\u001b[1;33m\u001b[0m\u001b[0m\n\u001b[1;32m--> 382\u001b[1;33m         \u001b[1;32mreturn\u001b[0m \u001b[0miter\u001b[0m\u001b[1;33m(\u001b[0m\u001b[0mimap\u001b[0m\u001b[1;33m(\u001b[0m\u001b[1;32mlambda\u001b[0m \u001b[0mi\u001b[0m\u001b[1;33m:\u001b[0m \u001b[0mself\u001b[0m\u001b[1;33m[\u001b[0m\u001b[0mi\u001b[0m\u001b[1;33m]\u001b[0m\u001b[1;33m,\u001b[0m \u001b[0mrange\u001b[0m\u001b[1;33m(\u001b[0m\u001b[0mself\u001b[0m\u001b[1;33m.\u001b[0m\u001b[0msize\u001b[0m\u001b[1;33m(\u001b[0m\u001b[1;36m0\u001b[0m\u001b[1;33m)\u001b[0m\u001b[1;33m)\u001b[0m\u001b[1;33m)\u001b[0m\u001b[1;33m)\u001b[0m\u001b[1;33m\u001b[0m\u001b[0m\n\u001b[0m\u001b[0;32m    383\u001b[0m \u001b[1;33m\u001b[0m\u001b[0m\n\u001b[0;32m    384\u001b[0m     \u001b[1;32mdef\u001b[0m \u001b[0m__hash__\u001b[0m\u001b[1;33m(\u001b[0m\u001b[0mself\u001b[0m\u001b[1;33m)\u001b[0m\u001b[1;33m:\u001b[0m\u001b[1;33m\u001b[0m\u001b[0m\n",
      "\u001b[1;31mKeyboardInterrupt\u001b[0m: "
     ]
    }
   ],
   "source": [
    "model = None\n",
    "optimizer = None\n",
    "num_data = 32\n",
    "# A 4-layer network\n",
    "# Each layer affine-norm-relu \n",
    "layer1 = nn.Sequential(\n",
    "    nn.Linear(num_data, 1,bias=False),\n",
    "    #nn.BatchNorm1d(30),\n",
    "    #nn.ReLU()\n",
    ")\n",
    "\n",
    "layer2 = nn.Sequential(\n",
    "    nn.Linear(30, 60),\n",
    "    nn.BatchNorm1d(60),\n",
    "    nn.ReLU()\n",
    ")\n",
    "\n",
    "layer3 = nn.Sequential(\n",
    "    nn.Linear(60, 30),\n",
    "    nn.BatchNorm1d(30),\n",
    "    nn.ReLU()\n",
    ")\n",
    "\n",
    "layer4 = nn.Sequential(\n",
    "    nn.Linear(30, 1),\n",
    "    #nn.BatchNorm1d(1),\n",
    "    #nn.ReLU()\n",
    ")\n",
    "'''\n",
    "this model is easy to change, when linear or poly, we only use layer one\n",
    "'''\n",
    "model = nn.Sequential(\n",
    "    layer1,\n",
    "    #layer2,\n",
    "    #layer3,\n",
    "    #layer4\n",
    ")\n",
    "# learning rate could be changed, advised to be less than 1e-2\n",
    "learning_rate = 1e-3\n",
    "# optimizer could be changed, but SGD is ok, weight_decay means add a L2 regulization\n",
    "optimizer = optim.SGD(model.parameters(), lr=learning_rate,weight_decay = 1)\n",
    "\n",
    "# Print training status every epoch: set print_every to a large number\n",
    "#print_every = 1000\n",
    "\n",
    "train(model, loader_train,device,optimizer,dtype,epochs=1000,print_process=False)"
   ]
  },
  {
   "cell_type": "code",
   "execution_count": null,
   "metadata": {},
   "outputs": [],
   "source": [
    "'''\n",
    "we can see the weight of different features\n",
    "'''\n",
    "params=model.state_dict() \n",
    "for k,v in params.items():\n",
    "    print(k)    #print the weight\n",
    "stop\n",
    "# make an error since next cell is saving the model"
   ]
  },
  {
   "cell_type": "code",
   "execution_count": null,
   "metadata": {},
   "outputs": [],
   "source": [
    "'''\n",
    "warning!!!!!if you run this cell,make sure you want to overwrite or make a new one\n",
    " several mothods to save the model\n",
    "'''\n",
    "torch.save(model, 'index_code1_poly2.1.fit')\n",
    "torch.save(model.state_dict(), 'index_code1_poly2.1.pkl')\n",
    "\n",
    "model.state_dict()"
   ]
  },
  {
   "cell_type": "code",
   "execution_count": 10,
   "metadata": {},
   "outputs": [
    {
     "data": {
      "text/plain": [
       "OrderedDict([('0.0.weight',\n",
       "              tensor([[ 0.0149,  0.0036,  0.0090,  0.0005, -0.0033, -0.0017,  0.0007,  0.0021,\n",
       "                       -0.0010,  0.0027, -0.0179, -0.0065,  0.0041,  0.0036,  0.0293,  0.0289,\n",
       "                        0.0219,  0.0213,  0.0122,  0.0086,  0.0059,  0.0094,  0.0107,  0.0061,\n",
       "                        0.0073,  0.0064, -0.0031,  0.0068,  0.0174,  0.0238,  0.0311,  0.0232]],\n",
       "                     device='cuda:0'))])"
      ]
     },
     "execution_count": 10,
     "metadata": {},
     "output_type": "execute_result"
    }
   ],
   "source": [
    "#load the existing model\n",
    "model1 = torch.load('index_code1_poly2.1.fit')\n",
    "model1.state_dict()"
   ]
  },
  {
   "cell_type": "code",
   "execution_count": 12,
   "metadata": {},
   "outputs": [
    {
     "name": "stderr",
     "output_type": "stream",
     "text": [
      "E:\\Anaconda\\envs\\cs231n\\lib\\site-packages\\ipykernel_launcher.py:12: UserWarning: invalid index of a 0-dim tensor. This will be an error in PyTorch 0.5. Use tensor.item() to convert a 0-dim tensor to a Python number\n",
      "  if sys.path[0] == '':\n"
     ]
    },
    {
     "name": "stdout",
     "output_type": "stream",
     "text": [
      "tensor([0.6733], device='cuda:0', grad_fn=<ThAddBackward>) tensor(0.6710, device='cuda:0')\n"
     ]
    },
    {
     "name": "stderr",
     "output_type": "stream",
     "text": [
      "E:\\Anaconda\\envs\\cs231n\\lib\\site-packages\\ipykernel_launcher.py:16: UserWarning: invalid index of a 0-dim tensor. This will be an error in PyTorch 0.5. Use tensor.item() to convert a 0-dim tensor to a Python number\n",
      "  app.launch_new_instance()\n"
     ]
    },
    {
     "name": "stdout",
     "output_type": "stream",
     "text": [
      "tensor([0.6283], device='cuda:0', grad_fn=<ThAddBackward>) tensor(0.6340, device='cuda:0')\n",
      "tensor([0.4483], device='cuda:0', grad_fn=<ThAddBackward>) tensor(0.3540, device='cuda:0')\n",
      "tensor([0.5630], device='cuda:0', grad_fn=<ThAddBackward>) tensor(0.6100, device='cuda:0')\n",
      "tensor([0.6423], device='cuda:0', grad_fn=<ThAddBackward>) tensor(0.5850, device='cuda:0')\n",
      "tensor([0.5531], device='cuda:0', grad_fn=<ThAddBackward>) tensor(0.5370, device='cuda:0')\n",
      "tensor([0.5282], device='cuda:0', grad_fn=<ThAddBackward>) tensor(0.4760, device='cuda:0')\n",
      "tensor([0.4342], device='cuda:0', grad_fn=<ThAddBackward>) tensor(0.3290, device='cuda:0')\n",
      "tensor([0.5755], device='cuda:0', grad_fn=<ThAddBackward>) tensor(0.5370, device='cuda:0')\n",
      "tensor([0.5752], device='cuda:0', grad_fn=<ThAddBackward>) tensor(0.5240, device='cuda:0')\n",
      "tensor([0.4750], device='cuda:0', grad_fn=<ThAddBackward>) tensor(0.3050, device='cuda:0')\n",
      "tensor([0.4676], device='cuda:0', grad_fn=<ThAddBackward>) tensor(0.2930, device='cuda:0')\n",
      "tensor([0.6242], device='cuda:0', grad_fn=<ThAddBackward>) tensor(0.5980, device='cuda:0')\n",
      "tensor([0.6587], device='cuda:0', grad_fn=<ThAddBackward>) tensor(0.5850, device='cuda:0')\n",
      "tensor([0.6526], device='cuda:0', grad_fn=<ThAddBackward>) tensor(0.5850, device='cuda:0')\n",
      "tensor([0.6785], device='cuda:0', grad_fn=<ThAddBackward>) tensor(0.5730, device='cuda:0')\n",
      "tensor([0.6410], device='cuda:0', grad_fn=<ThAddBackward>) tensor(0.5610, device='cuda:0')\n",
      "tensor([0.6211], device='cuda:0', grad_fn=<ThAddBackward>) tensor(0.7070, device='cuda:0')\n",
      "tensor([0.4940], device='cuda:0', grad_fn=<ThAddBackward>) tensor(0.5120, device='cuda:0')\n",
      "tensor([0.5204], device='cuda:0', grad_fn=<ThAddBackward>) tensor(0.4270, device='cuda:0')\n",
      "tensor([0.3868], device='cuda:0', grad_fn=<ThAddBackward>) tensor(0.3290, device='cuda:0')\n",
      "tensor([0.3908], device='cuda:0', grad_fn=<ThAddBackward>) tensor(0.2560, device='cuda:0')\n",
      "tensor([0.7541], device='cuda:0', grad_fn=<ThAddBackward>) tensor(0.7930, device='cuda:0')\n",
      "tensor([0.5821], device='cuda:0', grad_fn=<ThAddBackward>) tensor(0.5850, device='cuda:0')\n",
      "tensor([0.6110], device='cuda:0', grad_fn=<ThAddBackward>) tensor(0.5730, device='cuda:0')\n",
      "tensor([0.5707], device='cuda:0', grad_fn=<ThAddBackward>) tensor(0.2930, device='cuda:0')\n",
      "tensor([0.4769], device='cuda:0', grad_fn=<ThAddBackward>) tensor(0.2680, device='cuda:0')\n"
     ]
    },
    {
     "name": "stderr",
     "output_type": "stream",
     "text": [
      "E:\\Anaconda\\envs\\cs231n\\lib\\site-packages\\ipykernel_launcher.py:17: UserWarning: invalid index of a 0-dim tensor. This will be an error in PyTorch 0.5. Use tensor.item() to convert a 0-dim tensor to a Python number\n"
     ]
    },
    {
     "name": "stdout",
     "output_type": "stream",
     "text": [
      "tensor(0.6710, device='cuda:0')\n",
      "tensor(0.2818, device='cuda:0', grad_fn=<ThAddBackward>)\n"
     ]
    },
    {
     "data": {
      "image/png": "[encoded data removed]",
      "text/plain": [
       "<Figure size 432x288 with 1 Axes>"
      ]
     },
     "metadata": {
      "needs_background": "light"
     },
     "output_type": "display_data"
    }
   ],
   "source": [
    "#see the effect on testing set\n",
    "from matplotlib import pyplot as plt\n",
    "x = []\n",
    "y = []#test\n",
    "loss = 0\n",
    "# change the data_input_test[0] for validation is ok to see performance\n",
    "for t, content in data_input_test[0].items():\n",
    "\n",
    "    PER_C = model(content[0])\n",
    "            # Loss is the mean square error\n",
    "    win_rate = sum(PER_C)\n",
    "    plt.scatter(win_rate[0].data,content[1][0].data)\n",
    "    print(win_rate,content[1])\n",
    "    y.append(win_rate)\n",
    "    x.append(content[1])\n",
    "    loss += (win_rate[0]-content[1][0].data)**2\n",
    "print(x[0][0])\n",
    "print(loss)\n",
    "#plt.scatter(x,y)\n",
    "plt.show()"
   ]
  },
  {
   "cell_type": "code",
   "execution_count": null,
   "metadata": {},
   "outputs": [],
   "source": []
  },
  {
   "cell_type": "code",
   "execution_count": null,
   "metadata": {
    "scrolled": true
   },
   "outputs": [],
   "source": []
  }
 ],
 "metadata": {
  "kernelspec": {
   "display_name": "Python 3",
   "language": "python",
   "name": "python3"
  },
  "language_info": {
   "codemirror_mode": {
    "name": "ipython",
    "version": 3
   },
   "file_extension": ".py",
   "mimetype": "text/x-python",
   "name": "python",
   "nbconvert_exporter": "python",
   "pygments_lexer": "ipython3",
   "version": "3.6.6"
  }
 },
 "nbformat": 4,
 "nbformat_minor": 2
}
