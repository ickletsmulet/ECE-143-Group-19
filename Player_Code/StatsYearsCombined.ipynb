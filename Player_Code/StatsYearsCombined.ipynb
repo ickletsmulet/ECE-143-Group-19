{
 "cells": [
  {
   "cell_type": "code",
   "execution_count": null,
   "metadata": {},
   "outputs": [],
   "source": [
    "\"\"\"\n",
    "This program is used to scrape and average all NBA\n",
    "players' stats who played from 1989 to 2018 (30 years).\n",
    "\"\"\""
   ]
  },
  {
   "cell_type": "code",
   "execution_count": null,
   "metadata": {},
   "outputs": [],
   "source": [
    "# Imports\n",
    "from bs4 import BeautifulSoup\n",
    "import requests\n",
    "import numpy as np\n",
    "import csv"
   ]
  },
  {
   "cell_type": "code",
   "execution_count": null,
   "metadata": {},
   "outputs": [],
   "source": [
    "# This part creates a dictionary of URLs for each year from 1989 to 2018.\n",
    "baseURL_left = \"https://www.basketball-reference.com/leagues/NBA_\"\n",
    "baseURL_right = \"_advanced.html\"\n",
    "URL = {}\n",
    "for year in range(1989, 2019):\n",
    "    URL[year] = baseURL_left + str(year) + baseURL_right"
   ]
  },
  {
   "cell_type": "code",
   "execution_count": null,
   "metadata": {},
   "outputs": [],
   "source": [
    "# Scraping NBA data to get each player's stats\n",
    "total_table = []\n",
    "for year in URL:\n",
    "    print(\"Getting stats from \" + str(year))\n",
    "    source = requests.get(URL[year]).text\n",
    "    soup = BeautifulSoup(source, 'lxml')\n",
    "    player_table = soup.find('table', {'class': 'sortable stats_table'})\n",
    "    full_table = player_table.find('tbody').findAll('tr', {'class': 'full_table'})\n",
    "    for table in full_table:\n",
    "        player_name = table.find('td', {'data-stat': \"player\"}).get_text()\n",
    "        stats = table.findAll('td', {'class': 'right'})\n",
    "        temp = [player_name]\n",
    "\n",
    "        # Cleaning up empty columns and adding data to overall table\n",
    "        column = 0\n",
    "        for stat in stats:\n",
    "            column += 1\n",
    "            if column == 16 or column == 21:\n",
    "                continue\n",
    "            playerstats = stat.get_text()\n",
    "            if not playerstats:\n",
    "                playerstats = \"0\"\n",
    "                temp.append(playerstats)\n",
    "            else:\n",
    "                temp.append(playerstats)\n",
    "            total_table.append(temp)\n",
    "    print(\"Done\")"
   ]
  },
  {
   "cell_type": "code",
   "execution_count": null,
   "metadata": {},
   "outputs": [],
   "source": [
    "# Averaging player career stats\n",
    "print(\"Calculating players' career stats\")\n",
    "player_dict = {}\n",
    "for player in total_table:\n",
    "    if player[0] not in player_dict:\n",
    "        player_dict[player[0]] = [player[1:]]\n",
    "    else:\n",
    "        player_dict[player[0]].extend([player[1:]])\n",
    "for player, stats in player_dict.items():\n",
    "    for stat in stats:\n",
    "        for i in range(len(stat)):\n",
    "            stat[i] = float(stat[i])\n",
    "    avg = np.around(np.mean(np.array(stats), axis=0), decimals=3).tolist()\n",
    "    player_dict[player] = avg"
   ]
  },
  {
   "cell_type": "code",
   "execution_count": null,
   "metadata": {},
   "outputs": [],
   "source": [
    "# Exporting data to csv file\n",
    "print(\"Writing to AvgPlayerStats.csv\")\n",
    "with open(\"AvgPlayerStats.csv\", 'w', newline='') as outfile:\n",
    "    csv_writer = csv.writer(outfile, delimiter=',')\n",
    "    for player, stats in player_dict.items():\n",
    "        csv_writer.writerow([player] + stats)\n",
    "print(\"All tasks complete\")"
   ]
  }
 ],
 "metadata": {
  "kernelspec": {
   "display_name": "Python 3",
   "language": "python",
   "name": "python3"
  },
  "language_info": {
   "codemirror_mode": {
    "name": "ipython",
    "version": 3
   },
   "file_extension": ".py",
   "mimetype": "text/x-python",
   "name": "python",
   "nbconvert_exporter": "python",
   "pygments_lexer": "ipython3",
   "version": "3.6.4"
  }
 },
 "nbformat": 4,
 "nbformat_minor": 2
}
