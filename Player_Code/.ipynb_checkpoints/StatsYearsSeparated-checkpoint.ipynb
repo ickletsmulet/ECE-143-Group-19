{
 "cells": [
  {
   "cell_type": "code",
   "execution_count": null,
   "metadata": {},
   "outputs": [],
   "source": [
    "\"\"\"\n",
    "This program is used to scrape NBA data and separate into a different\n",
    "file for each year between 1989 and 2018 for all NBA players (30 years).\n",
    "\"\"\""
   ]
  },
  {
   "cell_type": "code",
   "execution_count": null,
   "metadata": {},
   "outputs": [],
   "source": [
    "# Imports\n",
    "from bs4 import BeautifulSoup\n",
    "import requests\n",
    "import csv"
   ]
  },
  {
   "cell_type": "code",
   "execution_count": null,
   "metadata": {},
   "outputs": [],
   "source": [
    "# This part creates a dictionary of URLs for each year from 1989 to 2018.\n",
    "baseURL_left = \"https://www.basketball-reference.com/leagues/NBA_\"\n",
    "baseURL_right = \"_advanced.html\"\n",
    "URL = {}\n",
    "for year in range(1989, 2019):\n",
    "    URL[year] = baseURL_left + str(year) + baseURL_right"
   ]
  },
  {
   "cell_type": "code",
   "execution_count": null,
   "metadata": {},
   "outputs": [],
   "source": [
    "# This part scrapes data from the NBA database and creates a table for all stats\n",
    "for year in URL:\n",
    "    print(\"Getting stats from \" + str(year))\n",
    "    source = requests.get(URL[year]).text\n",
    "    soup = BeautifulSoup(source, 'lxml')\n",
    "    player_table = soup.find('table', {'class': 'sortable stats_table'})\n",
    "    full_table = player_table.find('tbody').findAll('tr', {'class': 'full_table'})\n",
    "    total_table = []\n",
    "    for table in full_table:\n",
    "        player_name = table.find('td', {'data-stat': \"player\"}).get_text()\n",
    "        stats = table.findAll('td', {'class': 'right'})\n",
    "        team = table.find('td', {'data-stat': \"team_id\"}).get_text()\n",
    "        temp = [player_name, team]\n",
    "\n",
    "        # Cleaning up empty columns and adding data to overall table\n",
    "        column = 0\n",
    "        for stat in stats:\n",
    "            column += 1\n",
    "            if column == 16 or column == 21:\n",
    "                continue\n",
    "            playerstats = stat.get_text()\n",
    "            if not playerstats:\n",
    "                playerstats = \"0\"\n",
    "                temp.append(playerstats)\n",
    "            else:\n",
    "                temp.append(playerstats)\n",
    "        total_table.append(temp)\n",
    "\n",
    "    # Exporting data to csv file\n",
    "    filename = \"AvgPlayerStats\" + str(year) + \".csv\"\n",
    "    with open(filename, 'w', newline='') as csvfile:\n",
    "        csvwriter = csv.writer(csvfile)\n",
    "        csvwriter.writerows(total_table)\n",
    "    print(\"Done\")\n",
    "print(\"All tasks complete\")"
   ]
  }
 ],
 "metadata": {
  "kernelspec": {
   "display_name": "Python 3",
   "language": "python",
   "name": "python3"
  },
  "language_info": {
   "codemirror_mode": {
    "name": "ipython",
    "version": 3
   },
   "file_extension": ".py",
   "mimetype": "text/x-python",
   "name": "python",
   "nbconvert_exporter": "python",
   "pygments_lexer": "ipython3",
   "version": "3.6.6"
  }
 },
 "nbformat": 4,
 "nbformat_minor": 2
}
