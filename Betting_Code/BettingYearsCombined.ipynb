{
 "cells": [
  {
   "cell_type": "code",
   "execution_count": null,
   "metadata": {},
   "outputs": [],
   "source": [
    "\"\"\"\n",
    "This program scrapes NBA matches' data from a betting odds website\n",
    "and saves all the years from 2009 to 2018 to a single file.\n",
    "\"\"\""
   ]
  },
  {
   "cell_type": "code",
   "execution_count": null,
   "metadata": {},
   "outputs": [],
   "source": [
    "# Imports\n",
    "from bs4 import BeautifulSoup\n",
    "from selenium import webdriver\n",
    "import time"
   ]
  },
  {
   "cell_type": "code",
   "execution_count": null,
   "metadata": {},
   "outputs": [],
   "source": [
    "# Setting up Selenium browser\n",
    "chromepath = r\"C:\\Users\\c1yeung\\Desktop\\chromedriver.exe\"\n",
    "options = webdriver.ChromeOptions()\n",
    "options.add_argument('headless')\n",
    "browser = webdriver.Chrome(chromepath, chrome_options=options)"
   ]
  },
  {
   "cell_type": "code",
   "execution_count": null,
   "metadata": {},
   "outputs": [],
   "source": [
    "# Setting up URLs to iterate\n",
    "baseURL_left = \"https://www.oddsportal.com/basketball/usa/nba-\"\n",
    "baseURL_right = \"/results/#/page/\"\n",
    "URL = {}\n",
    "for year in range(2008, 2018):\n",
    "    URL[year] = baseURL_left + str(year) + \"-\" + str(int(year) + 1) + baseURL_right"
   ]
  },
  {
   "cell_type": "code",
   "execution_count": null,
   "metadata": {},
   "outputs": [],
   "source": [
    "# Scraping the data\n",
    "finalodds = []\n",
    "for year in URL:\n",
    "    print(\"Now scraping the\", str(year) + \" to \" + str(year + 1) + \" NBA season\")\n",
    "    for page in range(1, 30):\n",
    "        pageURL = URL[year] + str(page)\n",
    "        browser.get(pageURL)\n",
    "        time.sleep(2)\n",
    "        source = browser.page_source\n",
    "        soup = BeautifulSoup(source, 'lxml')\n",
    "        odds_table = soup.find('table', {'class': 'table-main'})\n",
    "        full_table = odds_table.find('tbody').findAll('tr', {'class': 'deactivate'})\n",
    "        temp = []\n",
    "\n",
    "        # Adding data to table\n",
    "        for table in full_table:\n",
    "            teamNames = table.find('td', {'class': 'table-participant'}).find('a').get_text()\n",
    "            temp.append(teamNames)\n",
    "            odds = table.findAll('td', {'class': 'odds-nowrp'})\n",
    "            for odd in odds:\n",
    "                gameOdds = odd.contents[0].get_text()\n",
    "                temp.append(gameOdds)\n",
    "            finalodds.append(temp)\n",
    "            temp = []\n",
    "# Close browser\n",
    "browser.close()"
   ]
  },
  {
   "cell_type": "code",
   "execution_count": null,
   "metadata": {},
   "outputs": [],
   "source": [
    "# Formatting the data\n",
    "formatted_odds = [[]]\n",
    "for game in finalodds:\n",
    "    teams = game[0].split(\" - \")\n",
    "    formatted_game = [teams[0], teams[1], game[1], game[2]]\n",
    "    formatted_odds.append(formatted_game)\n",
    "formatted_odds.remove([])"
   ]
  },
  {
   "cell_type": "code",
   "execution_count": null,
   "metadata": {},
   "outputs": [],
   "source": [
    "# Exporting the data into a csv file\n",
    "with open(\"bettingOdds.csv\", \"w\") as csv:\n",
    "    for game in formatted_odds:\n",
    "        csv.write(str(game[0]) + \",\" + str(game[1]) + \",\" + str(game[2]) + \",\" + str(game[3]))\n",
    "        csv.write(\"\\n\")"
   ]
  }
 ],
 "metadata": {
  "kernelspec": {
   "display_name": "Python 3",
   "language": "python",
   "name": "python3"
  },
  "language_info": {
   "codemirror_mode": {
    "name": "ipython",
    "version": 3
   },
   "file_extension": ".py",
   "mimetype": "text/x-python",
   "name": "python",
   "nbconvert_exporter": "python",
   "pygments_lexer": "ipython3",
   "version": "3.6.4"
  }
 },
 "nbformat": 4,
 "nbformat_minor": 2
}
